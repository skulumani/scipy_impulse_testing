{
 "cells": [
  {
   "cell_type": "markdown",
   "metadata": {},
   "source": [
    "## Impulse response testing\n",
    "\n",
    "We define a simple second order system under the influece of a unit impulse input.\n",
    "\n",
    "\\begin{align}\n",
    "    \\ddot{x} + 4 \\dot{x} + 3 x = \\delta(t)\n",
    "\\end{align}\n",
    "\n",
    "with the initial conditions\n",
    "\n",
    "\\begin{align}\n",
    "    x(0) = 2 \\quad \\dot{x}(0) = 1\n",
    "\\end{align}\n",
    "\n",
    "Taking the Laplace transform and expanding gives\n",
    "\n",
    "\\begin{align}\n",
    "    X(s) = \\frac{10+2s}{(s+3)(s+1)} = \\frac{-2}{s+3} + \\frac{4}{s+1}\n",
    "\\end{align}\n",
    "\n",
    "This can be inverted to find the time response as\n",
    "\n",
    "\\begin{align}\n",
    "    x(t) &= -2\\exp(-3t) + 4 \\exp(-t), \\\\\n",
    "    \\dot{x}(t) &= 6 \\exp(-3t) -4 \\exp(-t)\n",
    "\\end{align}\n",
    "\n",
    "Equivalently, we can define the system in state space form as\n",
    "\n",
    "\\begin{align}\n",
    "    \\begin{bmatrix}\n",
    "        \\dot{x}_1 \\\\ \\dot{x}_2\n",
    "    \\end{bmatrix} = \n",
    "    \\begin{bmatrix}\n",
    "        0 & 1 \\\\-3 &-4\n",
    "    \\end{bmatrix}\n",
    "    \\begin{bmatrix}\n",
    "        x_1 \\\\ x_2\n",
    "    \\end{bmatrix}\n",
    "    +\n",
    "    \\begin{bmatrix}\n",
    "        0 \\\\ 1\n",
    "    \\end{bmatrix}\n",
    "    u (t)\n",
    "\\end{align}"
   ]
  },
  {
   "cell_type": "code",
   "execution_count": 1,
   "metadata": {
    "collapsed": false
   },
   "outputs": [],
   "source": [
    "%matplotlib inline\n",
    "import numpy as np\n",
    "from scipy import signal\n",
    "import matplotlib.pylab as plt\n",
    "\n",
    "# transfer function\n",
    "num = 1\n",
    "den = [1, 4, 3]\n",
    "\n",
    "x0 = 2\n",
    "xd0 = 1\n",
    "\n",
    "time = np.linspace(0,10,100)\n",
    "\n",
    "A = np.array([[0, 1],[-3, -4]])\n",
    "B = np.array([[0],[1]])\n",
    "C = np.array([1, 0])\n",
    "D = np.array([0])\n",
    "\n",
    "systf = signal.TransferFunction(num,den)\n",
    "\n",
    "def analytical(t):\n",
    "    x = -2 *np.exp(-3*t) + 4 * np.exp(-t)\n",
    "    xd = 6*np.exp(-3*t) -4 * np.exp(-t)\n",
    "    return x"
   ]
  },
  {
   "cell_type": "markdown",
   "metadata": {},
   "source": [
    "Now we simulate and compare\n",
    "\n",
    "## `impulse` function \n",
    "\n",
    "The canonical representation used by `scipy.signal.lsim` has the states in reverse order than above."
   ]
  },
  {
   "cell_type": "code",
   "execution_count": 13,
   "metadata": {
    "collapsed": false
   },
   "outputs": [
    {
     "data": {
      "text/plain": [
       "<matplotlib.legend.Legend at 0x7f1923fbb748>"
      ]
     },
     "execution_count": 13,
     "metadata": {},
     "output_type": "execute_result"
    },
    {
     "data": {
      "image/png": "[encoded data removed]",
      "text/plain": [
       "<matplotlib.figure.Figure at 0x7f192402d470>"
      ]
     },
     "metadata": {},
     "output_type": "display_data"
    }
   ],
   "source": [
    "# _, tf_im = signal.impulse(systf, X0=(x0, xd0), T=time) # doesn't work\n",
    "# _, tf_im = signal.impulse(systf, X0=np.array([xd0, x0]), T=time) # doesn't work\n",
    "_, tf_im = signal.impulse(systf, X0=np.array([[xd0],[x0]]), T=time) \n",
    "\n",
    "_, tf_im2 = signal.impulse2(systf, X0=(xd0, x0), T=time) \n",
    "# _, tf_im2 = signal.impulse2(systf, X0=np.array([xd0, x0]), T=time) \n",
    "# _, tf_im2 = signal.impulse2(systf, X0=np.array([[xd0],[x0]]), T=time) # doesn't work\n",
    "\n",
    "fig = plt.figure()\n",
    "ax = fig.add_subplot(111)\n",
    "ax.plot(time, tf_im, label='Impulse')\n",
    "ax.plot(time, analytical(time), label='Analytical')\n",
    "ax.plot(time, tf_im2, label='Impulse2')\n",
    "ax.legend()"
   ]
  },
  {
   "cell_type": "markdown",
   "metadata": {},
   "source": [
    "## Comparing order of initial conditions"
   ]
  },
  {
   "cell_type": "code",
   "execution_count": 14,
   "metadata": {
    "collapsed": false
   },
   "outputs": [
    {
     "data": {
      "text/plain": [
       "<matplotlib.legend.Legend at 0x7f1923ee9780>"
      ]
     },
     "execution_count": 14,
     "metadata": {},
     "output_type": "execute_result"
    },
    {
     "data": {
      "image/png": "[encoded data removed]",
      "text/plain": [
       "<matplotlib.figure.Figure at 0x7f1924005518>"
      ]
     },
     "metadata": {},
     "output_type": "display_data"
    }
   ],
   "source": [
    "u = np.zeros_like(time)\n",
    "_, ss_lsim, state = signal.lsim(systf, u, T=time, X0=(xd0, x0))\n",
    "_, ss_lsim2, state = signal.lsim2(systf, u, T=time, X0=(xd0, x0))\n",
    "\n",
    "fig = plt.figure()\n",
    "ax = fig.add_subplot(111)\n",
    "ax.plot(time, ss_lsim, label='LSIM')\n",
    "ax.plot(time, analytical(time), label='Analytical')\n",
    "ax.plot(time,ss_lsim2, label='LSIM2')\n",
    "ax.legend()"
   ]
  },
  {
   "cell_type": "markdown",
   "metadata": {},
   "source": [
    "## Observations\n",
    "\n",
    "* `scipy` seems to use a slightly different canonical realization. The order of the states are reversed, see [Wikipedia](https://en.wikipedia.org/wiki/State-space_representation#Canonical_realizations). This is the format Matlab uses by default. I suppose it should be documented someplace.\n",
    "* There are several different ways to include the initial conditions. The ones that work are different between `impulse` and `impulse2`\n",
    "\n"
   ]
  }
 ],
 "metadata": {
  "kernelspec": {
   "display_name": "Python 3",
   "language": "python",
   "name": "python3"
  },
  "language_info": {
   "codemirror_mode": {
    "name": "ipython",
    "version": 3
   },
   "file_extension": ".py",
   "mimetype": "text/x-python",
   "name": "python",
   "nbconvert_exporter": "python",
   "pygments_lexer": "ipython3",
   "version": "3.6.0"
  }
 },
 "nbformat": 4,
 "nbformat_minor": 2
}
